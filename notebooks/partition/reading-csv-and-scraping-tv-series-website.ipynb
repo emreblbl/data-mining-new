{
 "cells": [
  {
   "cell_type": "code",
   "execution_count": 9,
   "id": "initial_id",
   "metadata": {
    "collapsed": true,
    "ExecuteTime": {
     "end_time": "2023-12-29T15:17:21.920537Z",
     "start_time": "2023-12-29T15:17:21.915016Z"
    }
   },
   "outputs": [
    {
     "name": "stdout",
     "output_type": "stream",
     "text": [
      "['https://www.imdb.com/title/tt22687892/?ref_=sr_t_1', 'https://www.imdb.com/title/tt28267514/?ref_=sr_t_2']\n"
     ]
    }
   ],
   "source": [
    "import csv\n",
    "\n",
    "# Create an empty list to store the second column values\n",
    "second_column_values = []\n",
    "\n",
    "# Open the CSV file\n",
    "with open('partition-data.csv', 'r') as file:\n",
    "    # Create a CSV reader\n",
    "    reader = csv.reader(file)\n",
    "\n",
    "    # Skip the header row\n",
    "    next(reader)\n",
    "\n",
    "    # Iterate over each row in the CSV\n",
    "    for row in reader:\n",
    "        # Add the second column value to the list\n",
    "        second_column_values.append(row[1])\n",
    "\n",
    "print(second_column_values)"
   ]
  },
  {
   "cell_type": "code",
   "outputs": [
    {
     "name": "stdout",
     "output_type": "stream",
     "text": [
      "                              Name Release Date  \\\n",
      "0  Original title: Bi'Tuhaf Hikaye         2023   \n",
      "1        Kimler Geldi Kimler Geçti     1 Season   \n",
      "\n",
      "                                                 URL  \n",
      "0  https://www.imdb.com/title/tt22687892/?ref_=sr...  \n",
      "1  https://www.imdb.com/title/tt28267514/?ref_=sr...  \n"
     ]
    }
   ],
   "source": [
    "from selenium import webdriver\n",
    "from selenium.webdriver.chrome.options import Options\n",
    "from selenium.webdriver.common.by import By\n",
    "import time\n",
    "import pandas as pd\n",
    "\n",
    "def scrape_details_selenium(url):\n",
    "    options = Options()\n",
    "    # options.add_argument(\"--headless\")  # Uncomment for headless mode\n",
    "    options.add_argument(\"--no-sandbox\")\n",
    "    options.add_argument(\"--disable-dev-shm-usage\")\n",
    "\n",
    "    driver = webdriver.Chrome(options=options)\n",
    "    driver.get(url)\n",
    "    time.sleep(3)  # Wait for page load\n",
    "\n",
    "    # Replace 'selector_for_genre' and 'selector_for_release_date' with actual CSS selectors\n",
    "    try:\n",
    "        name = driver.find_element(By.CSS_SELECTOR, '.sc-d8941411-1.fTeJrK').text\n",
    "    except:\n",
    "        name = driver.find_element(By.CSS_SELECTOR, '.hero__primary-text').text\n",
    "    try:\n",
    "        release_date = driver.find_element(By.CSS_SELECTOR, \"div[class='sc-9b367beb-0 dfytnn'] a:last-child span:nth-child(1)\").text\n",
    "    except:\n",
    "        release_date = 'N/A'\n",
    "\n",
    "    driver.quit()\n",
    "\n",
    "    return {\n",
    "        'Name': name,\n",
    "        'Release Date': release_date,\n",
    "        'URL': url\n",
    "    }\n",
    "\n",
    "# Replace 'your_list_of_urls' with the variable that contains your URLs\n",
    "page_urls = second_column_values\n",
    "results = []\n",
    "\n",
    "for page_url in page_urls:\n",
    "    page_data = scrape_details_selenium(page_url)\n",
    "    results.append(page_data)\n",
    "\n",
    "# Convert results to DataFrame and write to CSV\n",
    "df = pd.DataFrame(results)\n",
    "df.to_csv('specific-data.csv', index=False)\n",
    "\n",
    "print(df)\n"
   ],
   "metadata": {
    "collapsed": false,
    "ExecuteTime": {
     "end_time": "2023-12-29T15:46:07.694559Z",
     "start_time": "2023-12-29T15:45:50.709019Z"
    }
   },
   "id": "4b9f1a8653d838d2",
   "execution_count": 12
  },
  {
   "cell_type": "code",
   "outputs": [],
   "source": [],
   "metadata": {
    "collapsed": false
   },
   "id": "a973738917369e43"
  }
 ],
 "metadata": {
  "kernelspec": {
   "display_name": "Python 3",
   "language": "python",
   "name": "python3"
  },
  "language_info": {
   "codemirror_mode": {
    "name": "ipython",
    "version": 2
   },
   "file_extension": ".py",
   "mimetype": "text/x-python",
   "name": "python",
   "nbconvert_exporter": "python",
   "pygments_lexer": "ipython2",
   "version": "2.7.6"
  }
 },
 "nbformat": 4,
 "nbformat_minor": 5
}
