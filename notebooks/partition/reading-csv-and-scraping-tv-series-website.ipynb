{
 "cells": [
  {
   "cell_type": "code",
   "execution_count": 1,
   "id": "initial_id",
   "metadata": {
    "collapsed": true,
    "ExecuteTime": {
     "end_time": "2023-12-31T18:38:33.251459Z",
     "start_time": "2023-12-31T18:38:33.244021Z"
    }
   },
   "outputs": [
    {
     "name": "stdout",
     "output_type": "stream",
     "text": [
      "['https://tr.wikipedia.org/wiki/T%C3%BCrk_dizileri_listesi']\n"
     ]
    }
   ],
   "source": [
    "import csv\n",
    "\n",
    "# Create an empty list to store the second column values\n",
    "second_column_values = []\n",
    "\n",
    "# Open the CSV file\n",
    "with open('partition-data.csv', 'r') as file:\n",
    "    # Create a CSV reader\n",
    "    reader = csv.reader(file)\n",
    "\n",
    "    # Skip the header row\n",
    "    next(reader)\n",
    "\n",
    "    # Iterate over each row in the CSV\n",
    "    for row in reader:\n",
    "        # Add the second column value to the list\n",
    "        second_column_values.append(row[1])\n",
    "\n",
    "print(second_column_values)"
   ]
  },
  {
   "cell_type": "code",
   "outputs": [],
   "source": [
    "from selenium import webdriver\n",
    "from selenium.webdriver.chrome.options import Options\n",
    "from selenium.webdriver.common.by import By\n",
    "import time\n",
    "import pandas as pd\n",
    "\n",
    "def scrape_details_selenium(url):\n",
    "    options = Options()\n",
    "    # options.add_argument(\"--headless\")  # Uncomment for headless mode\n",
    "    options.add_argument(\"--no-sandbox\")\n",
    "    options.add_argument(\"--disable-dev-shm-usage\")\n",
    "\n",
    "    driver = webdriver.Chrome(options=options)\n",
    "    driver.get(url)\n",
    "    time.sleep(3)  # Wait for page load\n",
    "\n",
    "    # Replace 'selector_for_genre' and 'selector_for_release_date' with actual CSS selectors\n",
    "    try:\n",
    "        tables = driver.find_elements(By.CSS_SELECTOR, \"table\")\n",
    "        for table in tables:\n",
    "             t_body= table.find_element(By.CSS_SELECTOR, \"tbody\")\n",
    "             tv_series= t_body.find_elements(By.CSS_SELECTOR, \"tr\")\n",
    "             for tv_serie in tv_series:\n",
    "                 try:\n",
    "                     a_element = tv_serie.find_element(By.CSS_SELECTOR, \"td > a\")\n",
    "                     href = a_element.get_attribute(\"href\")\n",
    "                     name = a_element.text\n",
    "                 except:\n",
    "                     continue\n",
    "                 \n",
    "                 \n",
    "            \n",
    "    except:\n",
    "        name = driver.find_element(By.CSS_SELECTOR, '.hero__primary-text').text\n",
    "    try:\n",
    "        release_date = driver.find_element(By.CSS_SELECTOR, \"div[class='sc-9b367beb-0 dfytnn'] a:last-child span:nth-child(1)\").text\n",
    "    except:\n",
    "        release_date = 'N/A'\n",
    "\n",
    "    driver.quit()\n",
    "\n",
    "    return {\n",
    "        'Name': name,\n",
    "        'Release Date': release_date,\n",
    "        'URL': url\n",
    "    }\n",
    "\n",
    "# Replace 'your_list_of_urls' with the variable that contains your URLs\n",
    "page_urls = second_column_values\n",
    "results = []\n",
    "\n",
    "for page_url in page_urls:\n",
    "    page_data = scrape_details_selenium(page_url)\n",
    "    results.append(page_data)\n",
    "\n",
    "# Convert results to DataFrame and write to CSV\n",
    "df = pd.DataFrame(results)\n",
    "df.to_csv('/Users/emre.bulbul/Desktop/exercise-project/python/data-mining-project/notebooks/partition/details.csv', index=False)\n",
    "\n",
    "print(df)\n"
   ],
   "metadata": {
    "collapsed": false,
    "is_executing": true,
    "ExecuteTime": {
     "start_time": "2023-12-31T19:07:30.064065Z"
    }
   },
   "id": "4b9f1a8653d838d2",
   "execution_count": null
  },
  {
   "cell_type": "code",
   "outputs": [],
   "source": [],
   "metadata": {
    "collapsed": false
   },
   "id": "a973738917369e43"
  }
 ],
 "metadata": {
  "kernelspec": {
   "display_name": "Python 3",
   "language": "python",
   "name": "python3"
  },
  "language_info": {
   "codemirror_mode": {
    "name": "ipython",
    "version": 2
   },
   "file_extension": ".py",
   "mimetype": "text/x-python",
   "name": "python",
   "nbconvert_exporter": "python",
   "pygments_lexer": "ipython2",
   "version": "2.7.6"
  }
 },
 "nbformat": 4,
 "nbformat_minor": 5
}
